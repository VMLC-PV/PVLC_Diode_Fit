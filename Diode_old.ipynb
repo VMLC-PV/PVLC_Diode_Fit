{
 "cells": [
  {
   "cell_type": "code",
   "execution_count": 280,
   "metadata": {},
   "outputs": [],
   "source": [
    "# necessary imports\n",
    "\n",
    "#%matplotlib notebook # switch this on when on JupyterHub\n",
    "%matplotlib inline\n",
    "\n",
    "import pandas as pd\n",
    "from numpy.random import default_rng\n",
    "import platform, os,subprocess,itertools\n",
    "from scipy import interpolate\n",
    "import numpy as np\n",
    "from matplotlib import pyplot as plt"
   ]
  },
  {
   "cell_type": "code",
   "execution_count": 281,
   "metadata": {},
   "outputs": [
    {
     "data": {
      "text/plain": [
       "[<matplotlib.lines.Line2D at 0x2226c6c2c10>]"
      ]
     },
     "execution_count": 281,
     "metadata": {},
     "output_type": "execute_result"
    },
    {
     "data": {
      "image/png": "[encoded data removed]",
      "text/plain": [
       "<Figure size 432x288 with 1 Axes>"
      ]
     },
     "metadata": {
      "needs_background": "light"
     },
     "output_type": "display_data"
    }
   ],
   "source": [
    "data = pd.read_csv('JV.dat',delim_whitespace=True)\n",
    "\n",
    "plt.loglog(data['Vext'],data['Jext'])"
   ]
  },
  {
   "cell_type": "code",
   "execution_count": 282,
   "metadata": {},
   "outputs": [],
   "source": [
    "from scipy.optimize import curve_fit\n",
    "from scipy.special import lambertw\n",
    "from scipy import constants\n",
    "from scipy import interpolate\n",
    "\n",
    "## Physics constants\n",
    "q = constants.value(u'elementary charge')\n",
    "eps_0 = constants.value(u'electric constant')\n",
    "kb = constants.value(u'Boltzmann constant in eV/K')\n",
    "eps_r = 25\n",
    "Nc = 1e24 # m^-3\n",
    "T = 295 # K\n",
    "\n",
    "def diode2(V,J0,n,Rs,Rsh):\n",
    "    # Solar Energy Materials & Solar Cells 81 (2004) 269–277\n",
    "    Vt = kb*T\n",
    "    w = lambertw(((J0*Rs*Rsh)/(n*Vt*(Rs+Rsh)))*np.exp((Rsh*(V+J0*Rs))/(n*Vt*(Rs+Rsh))))\n",
    "    Current = (n*Vt/Rs) * w + ((V-J0*Rsh)/(Rs+Rsh))\n",
    "    return np.log(abs(Current.real))\n",
    "\n",
    "def diode3(V,J0,n,Rs,Rsh):\n",
    "    # Solar Energy Materials & Solar Cells 81 (2004) 269–277\n",
    "    Vt = kb*T\n",
    "    w = lambertw(((J0*Rs*Rsh)/(n*Vt*(Rs+Rsh)))*np.exp((Rsh*(V+J0*Rs))/(n*Vt*(Rs+Rsh))))\n",
    "    Current = (n*Vt/Rs) * w + ((V-J0*Rsh)/(Rs+Rsh))\n",
    "    return abs(Current.real)\n",
    "\n",
    "\n"
   ]
  },
  {
   "cell_type": "code",
   "execution_count": 283,
   "metadata": {},
   "outputs": [
    {
     "data": {
      "image/png": "[encoded data removed]",
      "text/plain": [
       "<Figure size 432x288 with 1 Axes>"
      ]
     },
     "metadata": {
      "needs_background": "light"
     },
     "output_type": "display_data"
    },
    {
     "name": "stdout",
     "output_type": "stream",
     "text": [
      "[4.09336474e+01 4.47506983e+01 3.01287583e+01 1.15366787e+01\n",
      " 1.21816419e+01 5.40930595e+00 7.59698309e+00 1.02132527e+01\n",
      " 4.52688608e+00 2.64111895e+00 1.15707609e+00 3.37188522e-01\n",
      " 9.59812829e-02 2.41493418e-02 6.62177983e-03 2.14731896e-03\n",
      " 9.32704616e-04 5.53035863e-04 4.09589305e-04 3.43480904e-04\n",
      " 3.07138891e-04 2.84261466e-04 2.68945459e-04]\n"
     ]
    },
    {
     "data": {
      "image/png": "[encoded data removed]",
      "text/plain": [
       "<Figure size 432x288 with 1 Axes>"
      ]
     },
     "metadata": {
      "needs_background": "light"
     },
     "output_type": "display_data"
    },
    {
     "name": "stdout",
     "output_type": "stream",
     "text": [
      "[12.51833352  7.09111034  7.33987044 11.78055249  7.0351763  10.23040554\n",
      "  5.01688698  3.05484788  5.54625912  6.94403094 10.251268   17.30997625\n",
      " 22.20173343 25.97533206 25.90450327 23.50716081 19.04493661 14.21714638\n",
      " 10.458577    7.91629147  6.23107242  5.08098877  4.25576587]\n"
     ]
    },
    {
     "data": {
      "text/plain": [
       "(0.0, 5.0)"
      ]
     },
     "execution_count": 283,
     "metadata": {},
     "output_type": "execute_result"
    },
    {
     "data": {
      "image/png": "[encoded data removed]",
      "text/plain": [
       "<Figure size 432x288 with 1 Axes>"
      ]
     },
     "metadata": {
      "needs_background": "light"
     },
     "output_type": "display_data"
    }
   ],
   "source": [
    "def NonIdealDiode_dark(V, J0, n, Rs, Rsh, T = 300):\n",
    "    # Solar Energy Materials & Solar Cells 81 (2004) 269–277\n",
    "    Vt = kb*T\n",
    "    w = lambertw(((J0*Rs*Rsh)/(n*Vt*(Rs+Rsh)))*np.exp((Rsh*(V+J0*Rs))/(n*Vt*(Rs+Rsh))))\n",
    "\n",
    "    Current = (n*Vt/Rs) * w + ((V-J0*Rsh)/(Rs+Rsh))\n",
    "    return Current.real\n",
    "\n",
    "def NonIdealDiode_dark_log(V, J0, n, Rs, Rsh, T = 300):\n",
    "    # Solar Energy Materials & Solar Cells 81 (2004) 269–277\n",
    "    Vt = kb*T\n",
    "    w = lambertw(((J0*Rs*Rsh)/(n*Vt*(Rs+Rsh)))*np.exp((Rsh*(V+J0*Rs))/(n*Vt*(Rs+Rsh))))\n",
    "\n",
    "    Current = (n*Vt/Rs) * w + ((V-J0*Rsh)/(Rs+Rsh))\n",
    "    return np.log(abs(Current.real))\n",
    "\n",
    "def NonIdealDiode_light(V,Jph,J0,n,Rs,Rsh,T=300):\n",
    "    # Solid-State Electronics 44 (2000) 1861±1864\n",
    "    Vt = kb*T\n",
    "    w = lambertw(((J0*Rs*Rsh)/(n*Vt*(Rs+Rsh)))*np.exp((Rsh*(V+Jph*Rs+J0*Rs))/(n*Vt*(Rs+Rsh))))\n",
    "    \n",
    "    Current = -(V/(Rs+Rsh)) - (n*Vt/Rs) * w + ((Rsh*(J0+Jph))/(Rs+Rsh))\n",
    "\n",
    "    return Current.real\n",
    "\n",
    "# Je = NonIdealDiode_dark(V, J0, n, Rs, Rsh)\n",
    "# Jl = NonIdealDiode_light(V, 200, J0, n, 3e-4, 1e-2)\n",
    "\n",
    "\n",
    "\n",
    "Jph = 0\n",
    "J0 = 1e-7\n",
    "n = 1.7\n",
    "Rs = 3e-4\n",
    "Rsh = 3e1\n",
    "\n",
    "# df = pd.read_csv('JV.dat',delim_whitespace=True)\n",
    "# V = np.asarray(df['Vext'])\n",
    "# J = np.asarray(df['Jext'])\n",
    "\n",
    "\n",
    "df = pd.read_csv('PM6y6_dark.txt',delim_whitespace=True)\n",
    "V = np.asarray(df['V'])\n",
    "J = np.asarray(df['J'])\n",
    "\n",
    "Jd = NonIdealDiode_dark(V, J0, n, Rs, Rsh)\n",
    "plt.plot(V, J, 'b.', label='data')\n",
    "plt.semilogy(V, Jd, 'r-', label='fit')\n",
    "plt.ylim(1e-6,1e5)\n",
    "# plt.semilogy(V, diode3(V, popt[0], popt[1], popt[2],popt[3]), 'r-', label='fit')\n",
    "# plt.plot(V, diode(V, 20,1e-7, 1, 1e-4,1e6), 'b-', label='fit')\n",
    "# plt.plot(V, diode(V, 20,1e-7, 1.0, 1e-5,1e1), 'g-', label='fit')\n",
    "# plt.ylim([-20,10])\n",
    "plt.show()\n",
    "\n",
    "\n",
    "dVdJ = np.diff(V) / np.diff(J) \n",
    "print(dVdJ)\n",
    "plt.semilogy(V[:-1], dVdJ, 'b.', label='data')\n",
    "plt.show()\n",
    "Vt = kb*T\n",
    "dJdV = np.diff(np.log(abs(J))) / np.diff(V) \n",
    "print(dJdV)\n",
    "plt.plot(V[:-1], 1/(dJdV*Vt), 'b.', label='data')\n",
    "plt.ylim([0,5])"
   ]
  },
  {
   "cell_type": "code",
   "execution_count": 300,
   "metadata": {},
   "outputs": [],
   "source": [
    "time2fit = ['0.000000E+0','1.500000E+0','5.500000E+0','1.800100E+1','3.300200E+1','5.600300E+1']\n",
    "df = pd.read_csv('PM6Y6_dark_t_5.600300E+1.txt',delim_whitespace=True)\n",
    "df = df[df['V']!=0]\n",
    "V = np.asarray(df['V'])\n",
    "J = np.asarray(df['J'])\n",
    "\n"
   ]
  },
  {
   "cell_type": "code",
   "execution_count": 301,
   "metadata": {},
   "outputs": [
    {
     "name": "stdout",
     "output_type": "stream",
     "text": [
      "[ 5.51113291e-05  2.28974129e+00  2.96849915e-04 -7.73453267e+05]\n"
     ]
    },
    {
     "data": {
      "image/png": "[encoded data removed]",
      "text/plain": [
       "<Figure size 432x288 with 1 Axes>"
      ]
     },
     "metadata": {
      "needs_background": "light"
     },
     "output_type": "display_data"
    },
    {
     "data": {
      "text/plain": [
       "[<matplotlib.lines.Line2D at 0x2226f6cb460>]"
      ]
     },
     "execution_count": 301,
     "metadata": {},
     "output_type": "execute_result"
    },
    {
     "data": {
      "image/png": "[encoded data removed]",
      "text/plain": [
       "<Figure size 432x288 with 1 Axes>"
      ]
     },
     "metadata": {
      "needs_background": "light"
     },
     "output_type": "display_data"
    }
   ],
   "source": [
    "from scipy.optimize import curve_fit\n",
    "\n",
    "# popt, pcov = curve_fit(NonIdealDiode_dark_log, V, np.log(abs(J)), p0=[1e-7, 1, 2*Rs, 5*Rsh], maxfev =10000)\n",
    "popt, pcov = curve_fit(NonIdealDiode_dark, V, J, p0=[1e-7, 1, 2*Rs, 5*Rsh], maxfev =10000)\n",
    "\n",
    "print(popt)\n",
    "\n",
    "plt.plot(V, J, 'b.', label='data')\n",
    "plt.semilogy(V, NonIdealDiode_dark(V, *popt), 'r-', label='fit')\n",
    "plt.show()\n",
    "bounds_ = ([1e-20, 0.8, 1e-8, 1e-3], [1e-3, 3, 1e2, 1e8])\n",
    "popt, pcov = curve_fit(NonIdealDiode_dark_log, V, np.log(abs(J)), p0=[1e-7, 1, 2*Rs, 5*Rsh], maxfev =1000000,bounds = bounds_, method = 'dogbox')\n",
    "\n",
    "plt.plot(V, abs(J), 'b.', label='data')\n",
    "plt.semilogy(V, abs(NonIdealDiode_dark(V, *popt)), 'r-', label='fit')"
   ]
  },
  {
   "cell_type": "code",
   "execution_count": null,
   "metadata": {},
   "outputs": [],
   "source": [
    "time2fit = ['0.000000E+0','1.500000E+0','5.500000E+0','1.800100E+1','3.300200E+1','5.600300E+1']\n",
    "\n",
    "\n"
   ]
  }
 ],
 "metadata": {
  "kernelspec": {
   "display_name": "Python 3.8.5 ('base')",
   "language": "python",
   "name": "python3"
  },
  "language_info": {
   "codemirror_mode": {
    "name": "ipython",
    "version": 3
   },
   "file_extension": ".py",
   "mimetype": "text/x-python",
   "name": "python",
   "nbconvert_exporter": "python",
   "pygments_lexer": "ipython3",
   "version": "3.8.5"
  },
  "orig_nbformat": 4,
  "vscode": {
   "interpreter": {
    "hash": "ad2bdc8ecc057115af97d19610ffacc2b4e99fae6737bb82f5d7fb13d2f2c186"
   }
  }
 },
 "nbformat": 4,
 "nbformat_minor": 2
}
